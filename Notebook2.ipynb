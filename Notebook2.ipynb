{
 "cells": [
  {
   "cell_type": "markdown",
   "metadata": {
    "collapsed": true
   },
   "source": [
    "# My Jupyter Notebook on IBM Watson Studio"
   ]
  },
  {
   "cell_type": "markdown",
   "metadata": {},
   "source": [
    "**Anirudh Mattu** <br>\n",
    "85% Human"
   ]
  },
  {
   "cell_type": "markdown",
   "metadata": {},
   "source": [
    "*I am interested in the application of Data Science in Asset Mangement & Financial Analysis*"
   ]
  },
  {
   "cell_type": "markdown",
   "metadata": {},
   "source": [
    "### The following Code displays simple mathematical functions"
   ]
  },
  {
   "cell_type": "code",
   "execution_count": 9,
   "metadata": {},
   "outputs": [
    {
     "name": "stdout",
     "output_type": "stream",
     "text": [
      "2 1 24 15.0\n"
     ]
    }
   ],
   "source": [
    "a=1+1\n",
    "b=2-1\n",
    "c=4*6\n",
    "d=75/5\n",
    "print(a,b,c,d)"
   ]
  },
  {
   "cell_type": "markdown",
   "metadata": {},
   "source": [
    "|Column 1 | Column 2| Column 3|\n",
    "|--- | --- | --- |\n",
    "| Row 1 | Row 1 | Row 1 |\n",
    "| Row 2 | Row 2 | Row 2 |\n",
    "| Row 3 | Row 3 | Row 3 |\n",
    "\n",
    "* a\n",
    "* b\n",
    "* c\n",
    "* d\n",
    "\n",
    "1. a\n",
    "2. b\n",
    "3. c\n",
    "4. d\n",
    "    5. d2\n",
    "    6. d3\n",
    "7. e\n",
    " \n",
    "> ab\n",
    "> cd\n",
    "\n",
    "<img src=\"https://www.kindpng.com/picc/m/502-5024059_ibm-dachlawinen-text-kunststoff-watson-schwarz-vorsicht-ibm.png\" alt=\"IBM Watson Logo\" title=\"ABCD\" />\n"
   ]
  },
  {
   "cell_type": "code",
   "execution_count": null,
   "metadata": {},
   "outputs": [],
   "source": []
  }
 ],
 "metadata": {
  "kernelspec": {
   "display_name": "Python 3.9 with Spark",
   "language": "python3",
   "name": "python39"
  },
  "language_info": {
   "codemirror_mode": {
    "name": "ipython",
    "version": 3
   },
   "file_extension": ".py",
   "mimetype": "text/x-python",
   "name": "python",
   "nbconvert_exporter": "python",
   "pygments_lexer": "ipython3",
   "version": "3.9.7"
  }
 },
 "nbformat": 4,
 "nbformat_minor": 1
}
